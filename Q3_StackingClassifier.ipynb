{
  "nbformat": 4,
  "nbformat_minor": 0,
  "metadata": {
    "colab": {
      "provenance": [],
      "gpuType": "T4"
    },
    "kernelspec": {
      "name": "python3",
      "display_name": "Python 3"
    },
    "language_info": {
      "name": "python"
    },
    "accelerator": "GPU"
  },
  "cells": [
    {
      "cell_type": "code",
      "execution_count": 26,
      "metadata": {
        "id": "NrVejuwu8xHn"
      },
      "outputs": [],
      "source": [
        "import numpy as np\n",
        "import matplotlib.pyplot as plt\n",
        "from sklearn.ensemble import StackingClassifier\n",
        "from sklearn.metrics import accuracy_score\n",
        "from sklearn.model_selection import cross_val_score, train_test_split\n",
        "from sklearn.preprocessing import MinMaxScaler\n",
        "from sklearn.datasets import fetch_openml\n",
        "from sklearn.tree import DecisionTreeClassifier\n",
        "from sklearn.neighbors import KNeighborsClassifier\n",
        "from sklearn.svm import SVC"
      ]
    },
    {
      "cell_type": "code",
      "source": [
        "# Step 1: Read the FashionMNIST dataset\n",
        "X, y = fetch_openml('Fashion-MNIST', version=1, return_X_y=True, as_frame=False)"
      ],
      "metadata": {
        "colab": {
          "base_uri": "https://localhost:8080/"
        },
        "id": "1K2KpeTJ8yv2",
        "outputId": "61cf965f-a861-4a7c-d7b9-7dd5c88fc2d1"
      },
      "execution_count": 27,
      "outputs": [
        {
          "output_type": "stream",
          "name": "stderr",
          "text": [
            "/usr/local/lib/python3.10/dist-packages/sklearn/datasets/_openml.py:968: FutureWarning: The default value of `parser` will change from `'liac-arff'` to `'auto'` in 1.4. You can set `parser='auto'` to silence this warning. Therefore, an `ImportError` will be raised from 1.4 if the dataset is dense and pandas is not installed. Note that the pandas parser may return different data types. See the Notes Section in fetch_openml's API doc for details.\n",
            "  warn(\n"
          ]
        }
      ]
    },
    {
      "cell_type": "code",
      "source": [
        "# Step 2: Preprocess the data\n",
        "# Display a sample of the data\n",
        "fig, axes = plt.subplots(3, 3, figsize=(8, 8))\n",
        "for i, ax in enumerate(axes.flat):\n",
        "    ax.imshow(X[i].reshape(28, 28), cmap='gray')\n",
        "    ax.axis('off')\n",
        "    ax.set_title(f'Label: {y[i]}')\n",
        "plt.show()"
      ],
      "metadata": {
        "colab": {
          "base_uri": "https://localhost:8080/",
          "height": 675
        },
        "id": "aGavLl_w86Hu",
        "outputId": "94762dfd-ef88-4f2c-f734-0fe01d64ffc2"
      },
      "execution_count": 28,
      "outputs": [
        {
          "output_type": "display_data",
          "data": {
            "text/plain": [
              "<Figure size 800x800 with 9 Axes>"
            ],
            "image/png": "[encoded data removed]"
          },
          "metadata": {}
        }
      ]
    },
    {
      "cell_type": "code",
      "source": [
        "# Step 4: Separate training and test data\n",
        "X_train, X_test, y_train, y_test = train_test_split(X, y, test_size=0.2, random_state=42)"
      ],
      "metadata": {
        "id": "2wTjNK2z9NlF"
      },
      "execution_count": 29,
      "outputs": []
    },
    {
      "cell_type": "code",
      "source": [
        "# Step 3: Normalize the data and convert 28x28 matrix to 1x784\n",
        "X_train = X_train.reshape((-1, 784)) / 255.0\n",
        "X_test = X_test.reshape((-1, 784)) / 255.0"
      ],
      "metadata": {
        "id": "xTvGzQMx9Da-"
      },
      "execution_count": 30,
      "outputs": []
    },
    {
      "cell_type": "code",
      "source": [
        "y_train = y_train.astype(int)\n",
        "y_test = y_test.astype(int)"
      ],
      "metadata": {
        "id": "QAyiie-sD6-U"
      },
      "execution_count": 31,
      "outputs": []
    },
    {
      "cell_type": "code",
      "source": [
        "# Step 5: Train AdaBoost model\n",
        "clf1 = DecisionTreeClassifier(random_state=42)\n",
        "clf2 = KNeighborsClassifier(n_neighbors=5)\n",
        "clf3 = SVC(kernel='rbf', probability=True, random_state=42)\n",
        "\n",
        "estimators = [('dt', clf1), ('knn', clf2), ('svc', clf3)]\n",
        "model = StackingClassifier(estimators=estimators, final_estimator=DecisionTreeClassifier())\n",
        "model.fit(X_train, y_train)"
      ],
      "metadata": {
        "id": "eHR_oM-o9UFN"
      },
      "execution_count": null,
      "outputs": []
    },
    {
      "cell_type": "code",
      "source": [
        "y_train_pred = model.predict(X_train)\n",
        "y_test_pred = model.predict(X_test)\n",
        "test_accuracy = accuracy_score(y_test, y_test_pred)\n",
        "train_accuracy = accuracy_score(y_train, y_train_pred)\n",
        "print(f'Training accuracy with model: {train_accuracy:.4f}')\n",
        "print(f'Testing accuracy with model: {test_accuracy:.4f}')"
      ],
      "metadata": {
        "colab": {
          "base_uri": "https://localhost:8080/"
        },
        "id": "4WS-svuR9U8W",
        "outputId": "c30d818f-f32c-407e-d6e5-5e25ee7a7511"
      },
      "execution_count": 22,
      "outputs": [
        {
          "output_type": "stream",
          "name": "stdout",
          "text": [
            "Training accuracy with model: 0.9929\n",
            "Testing accuracy with model: 0.9034\n"
          ]
        }
      ]
    },
    {
      "cell_type": "code",
      "source": [
        "# Step 6: Cross-validation and error report\n",
        "cv_scores = cross_val_score(model, X_train, y_train, cv=5)\n",
        "mean_cv_error = 1 - np.mean(cv_scores)\n",
        "print(f'Cross-validation error: {mean_cv_error:.4f}')"
      ],
      "metadata": {
        "colab": {
          "base_uri": "https://localhost:8080/"
        },
        "id": "LfPXnYv99nJa",
        "outputId": "183ef7bc-d4f9-4231-8319-d6c8893b5da1"
      },
      "execution_count": 23,
      "outputs": [
        {
          "output_type": "stream",
          "name": "stdout",
          "text": [
            "[LightGBM] [Info] Auto-choosing col-wise multi-threading, the overhead of testing was 1.274292 seconds.\n",
            "You can set `force_col_wise=true` to remove the overhead.\n",
            "[LightGBM] [Info] Total Bins 169439\n",
            "[LightGBM] [Info] Number of data points in the train set: 44800, number of used features: 783\n",
            "[LightGBM] [Info] Start training from score -2.301470\n",
            "[LightGBM] [Info] Start training from score -2.302808\n",
            "[LightGBM] [Info] Start training from score -2.303925\n",
            "[LightGBM] [Info] Start training from score -2.311329\n",
            "[LightGBM] [Info] Start training from score -2.294803\n",
            "[LightGBM] [Info] Start training from score -2.311329\n",
            "[LightGBM] [Info] Start training from score -2.303925\n",
            "[LightGBM] [Info] Start training from score -2.295246\n",
            "[LightGBM] [Info] Start training from score -2.292370\n",
            "[LightGBM] [Info] Start training from score -2.308855\n",
            "[LightGBM] [Info] Auto-choosing col-wise multi-threading, the overhead of testing was 0.891799 seconds.\n",
            "You can set `force_col_wise=true` to remove the overhead.\n",
            "[LightGBM] [Info] Total Bins 169417\n",
            "[LightGBM] [Info] Number of data points in the train set: 44800, number of used features: 783\n",
            "[LightGBM] [Info] Start training from score -2.301470\n",
            "[LightGBM] [Info] Start training from score -2.302808\n",
            "[LightGBM] [Info] Start training from score -2.303702\n",
            "[LightGBM] [Info] Start training from score -2.311329\n",
            "[LightGBM] [Info] Start training from score -2.294803\n",
            "[LightGBM] [Info] Start training from score -2.311554\n",
            "[LightGBM] [Info] Start training from score -2.303925\n",
            "[LightGBM] [Info] Start training from score -2.295468\n",
            "[LightGBM] [Info] Start training from score -2.292370\n",
            "[LightGBM] [Info] Start training from score -2.308630\n",
            "[LightGBM] [Info] Auto-choosing col-wise multi-threading, the overhead of testing was 0.900198 seconds.\n",
            "You can set `force_col_wise=true` to remove the overhead.\n",
            "[LightGBM] [Info] Total Bins 169456\n",
            "[LightGBM] [Info] Number of data points in the train set: 44800, number of used features: 783\n",
            "[LightGBM] [Info] Start training from score -2.301470\n",
            "[LightGBM] [Info] Start training from score -2.303032\n",
            "[LightGBM] [Info] Start training from score -2.303702\n",
            "[LightGBM] [Info] Start training from score -2.311554\n",
            "[LightGBM] [Info] Start training from score -2.295024\n",
            "[LightGBM] [Info] Start training from score -2.311329\n",
            "[LightGBM] [Info] Start training from score -2.303702\n",
            "[LightGBM] [Info] Start training from score -2.295246\n",
            "[LightGBM] [Info] Start training from score -2.292370\n",
            "[LightGBM] [Info] Start training from score -2.308630\n",
            "[LightGBM] [Info] Auto-choosing col-wise multi-threading, the overhead of testing was 0.918187 seconds.\n",
            "You can set `force_col_wise=true` to remove the overhead.\n",
            "[LightGBM] [Info] Total Bins 169364\n",
            "[LightGBM] [Info] Number of data points in the train set: 44800, number of used features: 783\n",
            "[LightGBM] [Info] Start training from score -2.301693\n",
            "[LightGBM] [Info] Start training from score -2.303032\n",
            "[LightGBM] [Info] Start training from score -2.303925\n",
            "[LightGBM] [Info] Start training from score -2.311329\n",
            "[LightGBM] [Info] Start training from score -2.295024\n",
            "[LightGBM] [Info] Start training from score -2.311329\n",
            "[LightGBM] [Info] Start training from score -2.303702\n",
            "[LightGBM] [Info] Start training from score -2.295246\n",
            "[LightGBM] [Info] Start training from score -2.292149\n",
            "[LightGBM] [Info] Start training from score -2.308630\n",
            "[LightGBM] [Info] Auto-choosing col-wise multi-threading, the overhead of testing was 1.301896 seconds.\n",
            "You can set `force_col_wise=true` to remove the overhead.\n",
            "[LightGBM] [Info] Total Bins 169215\n",
            "[LightGBM] [Info] Number of data points in the train set: 44800, number of used features: 783\n",
            "[LightGBM] [Info] Start training from score -2.301470\n",
            "[LightGBM] [Info] Start training from score -2.303032\n",
            "[LightGBM] [Info] Start training from score -2.303925\n",
            "[LightGBM] [Info] Start training from score -2.311329\n",
            "[LightGBM] [Info] Start training from score -2.295024\n",
            "[LightGBM] [Info] Start training from score -2.311329\n",
            "[LightGBM] [Info] Start training from score -2.303925\n",
            "[LightGBM] [Info] Start training from score -2.295246\n",
            "[LightGBM] [Info] Start training from score -2.292149\n",
            "[LightGBM] [Info] Start training from score -2.308630\n",
            "Cross-validation error: 0.1013\n"
          ]
        }
      ]
    },
    {
      "cell_type": "code",
      "source": [
        "# Step 7: Calculate accuracy and correctness on training and test data\n",
        "train_predictions = model.predict(X_train)\n",
        "train_accuracy = accuracy_score(y_train, train_predictions)\n",
        "test_predictions = model.predict(X_test)\n",
        "test_accuracy = accuracy_score(y_test, test_predictions)\n",
        "print(f'Training accuracy: {train_accuracy:.4f}')\n",
        "print(f'Test accuracy: {test_accuracy:.4f}')"
      ],
      "metadata": {
        "colab": {
          "base_uri": "https://localhost:8080/"
        },
        "id": "HMTJqsjI9qPt",
        "outputId": "6c0f46cb-49e1-43e4-a6f2-6c7378b37455"
      },
      "execution_count": 24,
      "outputs": [
        {
          "output_type": "stream",
          "name": "stdout",
          "text": [
            "Training accuracy: 0.9929\n",
            "Test accuracy: 0.9034\n"
          ]
        }
      ]
    },
    {
      "cell_type": "code",
      "source": [
        "plt.bar(['Training', 'Test'], [train_accuracy, test_accuracy])\n",
        "plt.xlabel('Dataset')\n",
        "plt.ylabel('Accuracy')\n",
        "plt.title('Accuracy on Training and Test Data')\n",
        "plt.ylim([0, 1.0])\n",
        "plt.show()"
      ],
      "metadata": {
        "colab": {
          "base_uri": "https://localhost:8080/",
          "height": 472
        },
        "id": "1oEKQfCj9tOV",
        "outputId": "5497c026-b181-43da-89c5-0e5bd4751eb9"
      },
      "execution_count": 25,
      "outputs": [
        {
          "output_type": "display_data",
          "data": {
            "text/plain": [
              "<Figure size 640x480 with 1 Axes>"
            ],
            "image/png": "[encoded data removed]"
          },
          "metadata": {}
        }
      ]
    }
  ]
}